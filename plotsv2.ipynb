{
 "cells": [
  {
   "cell_type": "code",
   "execution_count": 18,
   "metadata": {},
   "outputs": [],
   "source": [
    "%matplotlib inline\n",
    "import os\n",
    "import matplotlib.pyplot as plt\n",
    "import matplotlib.pylab as pylab\n",
    "import numpy as np\n",
    "from os.path import join\n",
    "from numpy import genfromtxt\n",
    "from plots import _plot\n",
    "from train import Results"
   ]
  },
  {
   "cell_type": "code",
   "execution_count": 43,
   "metadata": {},
   "outputs": [],
   "source": [
    "exp='exp class synthetic'\n",
    "if exp=='exp reg synthetic':\n",
    "    #folder = 'exps/exp1/grid_searchexp1w_bar4taskstd1y_snr10dim30over10seedsis[\\'fista\\', \\'subgd\\', \\'ssubgd\\']ist[\\'fista\\', \\'subgd\\', \\'ssubgd\\']n10val_perc0.0-2019-01-31 13:23:14.322002'\n",
    "    #folder = 'exps77/grid_searchexp1w_bar4taskstd1y_snr10dim30over10seedsis[\\'ssubgd\\', \\'fista\\']ist[\\'ssubgd\\', \\'fista\\']n50val_perc0.0-2019-02-11 12:37:04.184427'\n",
    "    folder = 'exps77/exp_duality_gap_MAC/exp1/'\n",
    "    T=500\n",
    "    x_right=300\n",
    "elif exp =='exp class synthetic':\n",
    "    #folder = 'exps77/grid_searchexp2w_bar4taskstd1y_snr10dim30y_distlogisticmarginover10seedsis[\\'ssubgd\\', \\'fista\\']ist[\\'ssubgd\\', \\'fista\\']n50val_perc0.0-2019-02-08 22%3a00%3a35.758740'\n",
    "    #folder = 'exps77/grid_searchexp2w_bar4taskstd1y_snr10dim30y_distlogisticmarginover10seedsis[\\'ssubgd\\', \\'fista\\']ist[\\'ssubgd\\', \\'fista\\']n10val_perc0.0-2019-02-08 11%3a16%3a06.897500'\n",
    "    folder = 'exps77/exp_duality_gap_MAC/exp2/'\n",
    "    T=500\n",
    "    x_right=300\n",
    "elif exp =='lenk regression':\n",
    "    #folder = 'exps77/grid_searchexpLenkRegn_tasks_train100n_tasks_val40n_tasks180dim14over10seedsis[\\'ssubgd\\', \\'fista\\']ist[\\'ssubgd\\', \\'fista\\']n8val_perc0.0-2019-02-07 14:48:50.964294/'\n",
    "    folder = 'exps77/exp_duality_gap_MAC/expLenkReg/'\n",
    "    T=100\n",
    "    x_right=100\n",
    "elif exp =='lenk classification':\n",
    "    #folder = 'exps77/grid_searchexpLenkn_tasks_train100n_tasks_val40n_tasks180dim14over10seedsis[\\'ssubgd\\', \\'fista\\']ist[\\'ssubgd\\', \\'fista\\']n8val_perc0.0-2019-02-07 18:54:20.948679'\n",
    "    folder = 'exps77/exp_duality_gap_MAC/expLenkClass/'\n",
    "    T=100\n",
    "    x_right=100\n",
    "\n",
    "title=''\n",
    "metric='loss'\n",
    "y_label='Test Error'\n",
    "save=True\n",
    "save_dir = 'plotsf'\n",
    "\n",
    "if not save:\n",
    "    save_dir=None\n",
    "\n",
    "files = os.listdir(folder)\n",
    "def get_file(starts_with):\n",
    "    for f in files:\n",
    "        if f.startswith(metric+'-'+starts_with):\n",
    "            return genfromtxt(join(folder, f), delimiter=',')\n",
    "    return None\n",
    "result_dict = {}\n",
    "def put_in_dict(starts_with, name, color=None):\n",
    "    metrics = {'': get_file(starts_with=starts_with)}\n",
    "    print(metrics)\n",
    "    r = Results(None, False, False, name=name)\n",
    "    r.add_metrics(metrics)\n",
    "    r.color = color\n",
    "    result_dict[name] = r"
   ]
  },
  {
   "cell_type": "code",
   "execution_count": 44,
   "metadata": {},
   "outputs": [
    {
     "name": "stdout",
     "output_type": "stream",
     "text": [
      "{'': array([0.84939388, 0.85084305, 0.86455835, 0.84960294, 0.85971564,\n",
      "       0.84103952, 0.85172976, 0.8609066 , 0.86113965, 0.87110036])}\n",
      "-----------ITL- mean std 0.8560029756142074 0.008478038640430062\n",
      "{'': array([[0.84985439, 0.86348302, 0.85627063, ..., 0.85678349, 0.8652422 ,\n",
      "        0.86673337],\n",
      "       [0.77784089, 0.80264637, 0.79911051, ..., 0.78345883, 0.8186271 ,\n",
      "        0.78976015],\n",
      "       [0.74776213, 0.76527196, 0.77046948, ..., 0.70816342, 0.77593774,\n",
      "        0.72497486],\n",
      "       ...,\n",
      "       [0.11124249, 0.11451708, 0.11467314, ..., 0.11400902, 0.10927888,\n",
      "        0.10675258],\n",
      "       [0.11209837, 0.11452594, 0.11465364, ..., 0.11398473, 0.10926911,\n",
      "        0.10662682],\n",
      "       [0.11203426, 0.11452133, 0.11465919, ..., 0.11396077, 0.10925996,\n",
      "        0.10680914]])}\n",
      "-----------LTL- mean std 0.11132716130429712 0.0028304229014737264\n",
      "{'': array([0.10033041, 0.10755089, 0.10143353, 0.09934216, 0.10177282,\n",
      "       0.09930603, 0.10191097, 0.1067287 , 0.1023602 , 0.10018793])}\n",
      "-----------MEAN- mean std 0.10209236365394606 0.0027201205480457398\n"
     ]
    }
   ],
   "source": [
    "put_in_dict('ITL-tsssubgd', 'ITL', 'darkred')\n",
    "\n",
    "put_in_dict('LTL-trssubgdtsssubgd', 'LTL', 'c')\n",
    "\n",
    "if not 'lenk' in exp:\n",
    "    put_in_dict('MEAN-tsssubgd', 'MEAN', 'orange')"
   ]
  },
  {
   "cell_type": "code",
   "execution_count": 45,
   "metadata": {},
   "outputs": [],
   "source": [
    "def plot_resultsList(T, results_dict, y_label='', title='', save_dir_path=None, show_plot=True,\n",
    "                     filename='metric_test'):\n",
    "\n",
    "    alpha = 0.1\n",
    "    size=0.6\n",
    "    my_dpi=300\n",
    "    plt.figure(figsize=(size*7, size*4))\n",
    "    plt.tight_layout()\n",
    "    \n",
    "    x = list(range(T))\n",
    "    for _, results in results_dict.items():\n",
    "        _plot(results.metrics, '', alpha, x=x, label=results.name, color=results.color)\n",
    "\n",
    "    plt.title(title)\n",
    "    plt.ylabel(y_label)\n",
    "    #plt.ylim(0.08, 0.14)\n",
    "    plt.xlabel('T')\n",
    "    plt.xlim(right=x_right, left=x[0])\n",
    "    plt.legend()\n",
    "\n",
    "    if save_dir_path is not None:\n",
    "        pylab.savefig(os.path.join(save_dir_path, filename+'.png'), bbox_inches = \"tight\", dpi=my_dpi)\n",
    "        #pylab.savefig(os.path.join(save_dir_path, filename+'.pgf'))\n",
    "        #tikz_save(os.path.join(save_dir_path, filename+'.txt'))\n",
    "    if show_plot:\n",
    "        plt.show()\n",
    "    plt.close()"
   ]
  },
  {
   "cell_type": "code",
   "execution_count": 46,
   "metadata": {},
   "outputs": [
    {
     "data": {
      "image/png": "[encoded data removed]",
      "text/plain": [
       "<matplotlib.figure.Figure at 0x1113fe668>"
      ]
     },
     "metadata": {},
     "output_type": "display_data"
    }
   ],
   "source": [
    "plot_resultsList(T+1, result_dict, y_label, title, save_dir, True, filename=exp+metric+'-T'+str(x_right))"
   ]
  },
  {
   "cell_type": "code",
   "execution_count": null,
   "metadata": {},
   "outputs": [],
   "source": []
  },
  {
   "cell_type": "code",
   "execution_count": null,
   "metadata": {},
   "outputs": [],
   "source": []
  },
  {
   "cell_type": "code",
   "execution_count": null,
   "metadata": {},
   "outputs": [],
   "source": []
  },
  {
   "cell_type": "code",
   "execution_count": null,
   "metadata": {},
   "outputs": [],
   "source": []
  },
  {
   "cell_type": "code",
   "execution_count": null,
   "metadata": {},
   "outputs": [],
   "source": []
  }
 ],
 "metadata": {
  "kernelspec": {
   "display_name": "Python 3",
   "language": "python",
   "name": "python3"
  },
  "language_info": {
   "codemirror_mode": {
    "name": "ipython",
    "version": 3
   },
   "file_extension": ".py",
   "mimetype": "text/x-python",
   "name": "python",
   "nbconvert_exporter": "python",
   "pygments_lexer": "ipython3",
   "version": "3.6.4"
  }
 },
 "nbformat": 4,
 "nbformat_minor": 2
}
