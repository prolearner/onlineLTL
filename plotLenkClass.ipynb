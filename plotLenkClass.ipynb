{
 "cells": [
  {
   "cell_type": "code",
   "execution_count": 10,
   "metadata": {},
   "outputs": [],
   "source": [
    "%matplotlib inline\n",
    "import os\n",
    "import matplotlib.pyplot as plt\n",
    "import matplotlib.pylab as pylab\n",
    "import numpy as np\n",
    "from os.path import join\n",
    "from numpy import genfromtxt\n",
    "from plots import _plot"
   ]
  },
  {
   "cell_type": "code",
   "execution_count": 11,
   "metadata": {},
   "outputs": [
    {
     "ename": "FileNotFoundError",
     "evalue": "[Errno 2] No such file or directory: \"expsGood/expsLenkReg/grid_searchexpLenkRegn_tasks_train100n_tasks_val40n_tasks180dim14over10seedsis('ssubgd', 'subgd')istssubgdn+10val_perc0.0-2019-01-23 05:08:44.803942\"",
     "traceback": [
      "\u001b[0;31m---------------------------------------------------------------------------\u001b[0m",
      "\u001b[0;31mFileNotFoundError\u001b[0m                         Traceback (most recent call last)",
      "\u001b[0;32m<ipython-input-11-b88f64973903>\u001b[0m in \u001b[0;36m<module>\u001b[0;34m()\u001b[0m\n\u001b[1;32m      2\u001b[0m \u001b[0msave_dir\u001b[0m \u001b[0;34m=\u001b[0m \u001b[0;34m'plots'\u001b[0m\u001b[0;34m\u001b[0m\u001b[0m\n\u001b[1;32m      3\u001b[0m \u001b[0mfolder\u001b[0m \u001b[0;34m=\u001b[0m \u001b[0;34m'expsGood/expsLenkReg/grid_searchexpLenkRegn_tasks_train100n_tasks_val40n_tasks180dim14over10seedsis(\\'ssubgd\\', \\'subgd\\')istssubgdn+'\u001b[0m\u001b[0;34m+\u001b[0m\u001b[0mstr\u001b[0m\u001b[0;34m(\u001b[0m\u001b[0mn\u001b[0m\u001b[0;34m)\u001b[0m\u001b[0;34m+\u001b[0m\u001b[0;34m'val_perc0.0-2019-01-23 05:08:44.803942'\u001b[0m\u001b[0;34m\u001b[0m\u001b[0m\n\u001b[0;32m----> 4\u001b[0;31m \u001b[0mfiles\u001b[0m \u001b[0;34m=\u001b[0m \u001b[0mos\u001b[0m\u001b[0;34m.\u001b[0m\u001b[0mlistdir\u001b[0m\u001b[0;34m(\u001b[0m\u001b[0mfolder\u001b[0m\u001b[0;34m)\u001b[0m\u001b[0;34m\u001b[0m\u001b[0m\n\u001b[0m\u001b[1;32m      5\u001b[0m \u001b[0;34m\u001b[0m\u001b[0m\n\u001b[1;32m      6\u001b[0m \u001b[0mkind\u001b[0m\u001b[0;34m=\u001b[0m\u001b[0;34m'sm'\u001b[0m\u001b[0;34m\u001b[0m\u001b[0m\n",
      "\u001b[0;31mFileNotFoundError\u001b[0m: [Errno 2] No such file or directory: \"expsGood/expsLenkReg/grid_searchexpLenkRegn_tasks_train100n_tasks_val40n_tasks180dim14over10seedsis('ssubgd', 'subgd')istssubgdn+10val_perc0.0-2019-01-23 05:08:44.803942\""
     ],
     "output_type": "error"
    }
   ],
   "source": [
    "n = 10\n",
    "save_dir = 'plots'\n",
    "folder = 'expsGood/expsLenkReg/grid_searchexpLenkRegn_tasks_train100n_tasks_val40n_tasks180dim14over10seedsis(\\'ssubgd\\', \\'subgd\\')istssubgdn10val_perc0.0-2019-01-23 05:08:44.803942'\n",
    "files = os.listdir(folder)\n",
    "\n",
    "kind='sm'\n",
    "title=''\n",
    "metric='loss'\n",
    "y_label='Test Error'\n",
    "save=True\n",
    "\n",
    "def get_file(starts_with):\n",
    "    for f in files:\n",
    "        if f.startswith(kind+'-'+metric+'-'+starts_with):\n",
    "            return genfromtxt(join(folder, f), delimiter=',')\n",
    "    return None\n",
    "\n",
    "metric_ltl = get_file(\"ltl-ssubgd.\")\n",
    "metric_itl = get_file(\"itl-.\")\n",
    "metric_oracle = get_file(\"oracle-.\")\n",
    "print(metric_itl)\n",
    "\n",
    "metric_itl_th = get_file(\"itl-th\")\n",
    "metric_ltl_th = get_file(\"ltl-ssubgd-th\")\n",
    "metric_oracle_th = get_file(\"oracle-th\")\n",
    "\n",
    "metric_itl_th = None\n",
    "metric_ltl_th = None\n",
    "metric_oracle_th = None\n",
    "\n",
    "theory_str = ' theory'\n",
    "if metric_ltl_th is not None:\n",
    "    metric_ltl = {\"\":metric_ltl, theory_str: metric_ltl_th}\n",
    "    metric_itl = {\"\":metric_itl, theory_str: metric_itl_th}\n",
    "    metric_oracle = {\"\":metric_oracle, theory_str: metric_oracle_th}\n",
    "\n",
    "metric_inner_initial= get_file(\"zero\")\n",
    "metric_inner_oracle= get_file(\"inner-oracle\")\n",
    "metric_wbar= get_file(\"wbar-oracle\")\n",
    "\n",
    "if not save:\n",
    "    save_dir=None"
   ]
  },
  {
   "cell_type": "code",
   "execution_count": 7,
   "metadata": {},
   "outputs": [],
   "source": [
    "x_right = 100\n",
    "def plot(metric_ltl, metric_itl, metric_oracle, metric_inner_initial=None, metric_inner_oracle=None, metric_wbar=None,\n",
    "         use_valid_str='', y_label='', title='', save_dir_path=None, show_plot=True, filename='metric_test.png'):\n",
    "\n",
    "    alpha = 0.1\n",
    "    size=0.55\n",
    "    my_dpi=300\n",
    "    plt.figure(figsize=(size*7, size*4))\n",
    "    plt.tight_layout()\n",
    "    \n",
    "\n",
    "    x = _plot(metric_ltl, use_valid_str, alpha, label='LTL', color='orange')\n",
    "    _plot(metric_itl, '', alpha, x=x, label='ITL', color='red')\n",
    "    _plot(metric_oracle, '', alpha, x=x, label='Mean', color='green')\n",
    "    _plot(metric_inner_initial, '', alpha, x=x, label='w = 0', color='blue', linestyle='--')\n",
    "    _plot(metric_inner_oracle, '', alpha, x=x, label=r'$w = w_\\mu$', color='purple', linestyle='--')\n",
    "    _plot(metric_wbar, '', alpha, x=x, label=r'$w = \\bar{w}$', color='green', linestyle='-.')\n",
    "\n",
    "    plt.title(title)\n",
    "    plt.ylabel(y_label)\n",
    "    plt.xlabel('T')\n",
    "    plt.xlim(right=x_right, left=x[0])\n",
    "    plt.legend()\n",
    "\n",
    "    if save_dir_path is not None:\n",
    "        pylab.savefig(os.path.join(save_dir_path, filename+'.png'), bbox_inches = \"tight\", dpi=my_dpi)\n",
    "        #pylab.savefig(os.path.join(save_dir_path, filename+'.pgf'))\n",
    "        #tikz_save(os.path.join(save_dir_path, filename+'.txt'))\n",
    "    if show_plot:\n",
    "        plt.show()\n",
    "    else:\n",
    "        plt.close()\n",
    "        \n",
    "def plot_2fig(metric_ltl, metric_itl, metric_oracle, metric_inner_initial=None, metric_inner_oracle=None,\n",
    "              metric_wbar=None, use_valid_str='', y_label='', title='', name='loss', save_dir_path=None, show_plot=True):\n",
    "    plot(metric_ltl, metric_itl, metric_oracle, None, None, None,\n",
    "         use_valid_str, y_label, title, save_dir_path, show_plot, name)\n",
    "\n",
    "    plot(metric_ltl, metric_itl, metric_oracle, metric_inner_initial, metric_inner_oracle, metric_wbar,\n",
    "         use_valid_str, y_label, title, save_dir_path, show_plot)"
   ]
  },
  {
   "cell_type": "code",
   "execution_count": 8,
   "metadata": {},
   "outputs": [
    {
     "data": {
      "image/png": "[encoded data removed]",
      "text/plain": [
       "<matplotlib.figure.Figure at 0x7f506fe46978>"
      ]
     },
     "metadata": {},
     "output_type": "display_data"
    },
    {
     "data": {
      "image/png": "[encoded data removed]",
      "text/plain": [
       "<matplotlib.figure.Figure at 0x7f50701d3710>"
      ]
     },
     "metadata": {},
     "output_type": "display_data"
    }
   ],
   "source": [
    "plot_2fig(metric_ltl, metric_itl, metric_oracle, metric_inner_initial, metric_inner_oracle,\n",
    "          metric_wbar, save_dir_path=save_dir, title=title, y_label=y_label, name=metric+str(x_right)+'_plus')"
   ]
  },
  {
   "cell_type": "code",
   "execution_count": null,
   "metadata": {},
   "outputs": [],
   "source": []
  },
  {
   "cell_type": "code",
   "execution_count": null,
   "metadata": {},
   "outputs": [],
   "source": []
  },
  {
   "cell_type": "code",
   "execution_count": null,
   "metadata": {},
   "outputs": [],
   "source": []
  },
  {
   "cell_type": "code",
   "execution_count": null,
   "metadata": {},
   "outputs": [],
   "source": []
  },
  {
   "cell_type": "code",
   "execution_count": null,
   "metadata": {},
   "outputs": [],
   "source": []
  }
 ],
 "metadata": {
  "kernelspec": {
   "display_name": "Python 3",
   "language": "python",
   "name": "python3"
  },
  "language_info": {
   "codemirror_mode": {
    "name": "ipython",
    "version": 3
   },
   "file_extension": ".py",
   "mimetype": "text/x-python",
   "name": "python",
   "nbconvert_exporter": "python",
   "pygments_lexer": "ipython3",
   "version": "3.6.4"
  }
 },
 "nbformat": 4,
 "nbformat_minor": 2
}
