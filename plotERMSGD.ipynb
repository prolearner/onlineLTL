{
 "cells": [
  {
   "cell_type": "code",
   "execution_count": 38,
   "metadata": {},
   "outputs": [],
   "source": [
    "%matplotlib inline\n",
    "import os\n",
    "import matplotlib.pyplot as plt\n",
    "import matplotlib.pylab as pylab\n",
    "import numpy as np\n",
    "from os.path import join\n",
    "from numpy import genfromtxt\n",
    "from plots import _plot"
   ]
  },
  {
   "cell_type": "code",
   "execution_count": 48,
   "metadata": {},
   "outputs": [
    {
     "name": "stdout",
     "output_type": "stream",
     "text": [
      "[4.56761282 4.65571088 4.59115813 4.51356568 4.54174574 4.60105875\n",
      " 4.58794123 4.59937657 4.55893715 4.59223642]\n"
     ]
    }
   ],
   "source": [
    "save_dir = 'plots'\n",
    "folder = 'expGoodMac/grid_searchexp1w_bar4taskstd2y_snr1dim30over10seedsis[\\'ssubgd\\']istssubgdn10val_perc0.0-2019-01-23 06:22:02.776460'\n",
    "folder = 'expGoodMac/grid_searchexp1w_bar4taskstd4y_snr1dim30over10seedsis[\\'ssubgd\\']istssubgdn10val_perc0.0-2019-01-23 07:14:20.507364'\n",
    "folder = 'expGoodMac/grid_searchexp1w_bar4taskstd1y_snr1dim30over10seedsis[\\'ssubgd\\']istssubgdn10val_perc0.0-2019-01-23 05:31:07.421127'\n",
    "\n",
    "\n",
    "files = os.listdir(folder)\n",
    "\n",
    "kind='sm'\n",
    "title=''\n",
    "metric='loss'\n",
    "y_label='Test Error'\n",
    "save=True\n",
    "\n",
    "def get_file(starts_with):\n",
    "    for f in files:\n",
    "        if f.startswith(kind+'-'+metric+'-'+starts_with):\n",
    "            return genfromtxt(join(folder, f), delimiter=',')\n",
    "    return None\n",
    "\n",
    "metric_ltl = get_file(\"ltl-ssubgd.\")\n",
    "metric_itl = get_file(\"itl-.\")\n",
    "metric_oracle = get_file(\"oracle-.\")\n",
    "print(metric_itl)\n",
    "\n",
    "metric_itl_th = get_file(\"itl-th\")\n",
    "metric_ltl_th = get_file(\"ltl-ssubgd-th\")\n",
    "metric_oracle_th = get_file(\"oracle-th\")\n",
    "\n",
    "metric_itl_th = None\n",
    "metric_ltl_th = None\n",
    "metric_oracle_th = None\n",
    "\n",
    "theory_str = ' theory'\n",
    "if metric_ltl_th is not None:\n",
    "    metric_ltl = {\"\":metric_ltl, theory_str: metric_ltl_th}\n",
    "    metric_itl = {\"\":metric_itl, theory_str: metric_itl_th}\n",
    "    metric_oracle = {\"\":metric_oracle, theory_str: metric_oracle_th}\n",
    "\n",
    "metric_inner_initial= get_file(\"zero\")\n",
    "metric_inner_oracle= get_file(\"inner-oracle\")\n",
    "metric_wbar= get_file(\"wbar-oracle\")\n",
    "\n",
    "if not save:\n",
    "    save_dir=None"
   ]
  },
  {
   "cell_type": "code",
   "execution_count": 49,
   "metadata": {},
   "outputs": [],
   "source": [
    "x_right = 500\n",
    "def plot(metric_ltl, metric_itl, metric_oracle, metric_inner_initial=None, metric_inner_oracle=None, metric_wbar=None,\n",
    "         use_valid_str='', y_label='', title='', save_dir_path=None, show_plot=True, filename='metric_test.png'):\n",
    "\n",
    "    alpha = 0.1\n",
    "    size=0.6\n",
    "    my_dpi=500\n",
    "    plt.figure(figsize=(size*7, size*4))\n",
    "    plt.tight_layout()\n",
    "    \n",
    "\n",
    "    x = _plot(metric_ltl, use_valid_str, alpha, label='LTL', color='orange')\n",
    "    _plot(metric_itl, '', alpha, x=x, label='ITL', color='red')\n",
    "    _plot(metric_oracle, '', alpha, x=x, label='Mean', color='green')\n",
    "    _plot(metric_inner_initial, '', alpha, x=x, label='w = 0', color='blue', linestyle='--')\n",
    "    _plot(metric_inner_oracle, '', alpha, x=x, label=r'$w = w_\\mu$', color='purple', linestyle='--')\n",
    "    _plot(metric_wbar, '', alpha, x=x, label=r'$w = \\bar{w}$', color='green', linestyle='-.')\n",
    "\n",
    "    plt.title(title)\n",
    "    plt.ylabel(y_label)\n",
    "    plt.xlabel('T')\n",
    "    plt.xlim(right=x_right, left=x[0])\n",
    "    plt.ylim(3.1, 6.4)\n",
    "    plt.legend()\n",
    "\n",
    "    if save_dir_path is not None:\n",
    "        pylab.savefig(os.path.join(save_dir_path, filename+'.png'), bbox_inches = \"tight\", dpi=my_dpi)\n",
    "        #pylab.savefig(os.path.join(save_dir_path, filename+'.pgf'))\n",
    "        #tikz_save(os.path.join(save_dir_path, filename+'.txt'))\n",
    "    if show_plot:\n",
    "        plt.show()\n",
    "    else:\n",
    "        plt.close()\n",
    "        \n",
    "def plot_2fig(metric_ltl, metric_itl, metric_oracle, metric_inner_initial=None, metric_inner_oracle=None,\n",
    "              metric_wbar=None, use_valid_str='', y_label='', title='', name='loss', save_dir_path=None, show_plot=True):\n",
    "    plot(metric_ltl, metric_itl, metric_oracle, None, None, None,\n",
    "         use_valid_str, y_label, title, save_dir_path, show_plot, name)\n",
    "\n",
    "    plot(metric_ltl, metric_itl, metric_oracle, metric_inner_initial, metric_inner_oracle, metric_wbar,\n",
    "         use_valid_str, y_label, title, save_dir_path, show_plot)"
   ]
  },
  {
   "cell_type": "code",
   "execution_count": 50,
   "metadata": {},
   "outputs": [
    {
     "data": {
      "image/png": "[encoded data removed]",
      "text/plain": [
       "<matplotlib.figure.Figure at 0x112fac048>"
      ]
     },
     "metadata": {},
     "output_type": "display_data"
    },
    {
     "data": {
      "image/png": "[encoded data removed]",
      "text/plain": [
       "<matplotlib.figure.Figure at 0x113010b00>"
      ]
     },
     "metadata": {},
     "output_type": "display_data"
    }
   ],
   "source": [
    "plot_2fig(metric_ltl, metric_itl, metric_oracle, metric_inner_initial, metric_inner_oracle,\n",
    "          metric_wbar, save_dir_path=save_dir, title=title, y_label=y_label, name=metric+str(x_right)+'_plus')"
   ]
  },
  {
   "cell_type": "code",
   "execution_count": null,
   "metadata": {},
   "outputs": [],
   "source": []
  },
  {
   "cell_type": "code",
   "execution_count": null,
   "metadata": {},
   "outputs": [],
   "source": []
  },
  {
   "cell_type": "code",
   "execution_count": null,
   "metadata": {},
   "outputs": [],
   "source": []
  },
  {
   "cell_type": "code",
   "execution_count": null,
   "metadata": {},
   "outputs": [],
   "source": []
  },
  {
   "cell_type": "code",
   "execution_count": null,
   "metadata": {},
   "outputs": [],
   "source": []
  }
 ],
 "metadata": {
  "kernelspec": {
   "display_name": "Python 3",
   "language": "python",
   "name": "python3"
  },
  "language_info": {
   "codemirror_mode": {
    "name": "ipython",
    "version": 3
   },
   "file_extension": ".py",
   "mimetype": "text/x-python",
   "name": "python",
   "nbconvert_exporter": "python",
   "pygments_lexer": "ipython3",
   "version": "3.6.4"
  }
 },
 "nbformat": 4,
 "nbformat_minor": 2
}
