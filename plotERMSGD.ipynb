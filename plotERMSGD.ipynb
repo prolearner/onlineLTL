{
 "cells": [
  {
   "cell_type": "code",
   "execution_count": 51,
   "metadata": {},
   "outputs": [],
   "source": [
    "%matplotlib inline\n",
    "import os\n",
    "import matplotlib.pyplot as plt\n",
    "import matplotlib.pylab as pylab\n",
    "import numpy as np\n",
    "from os.path import join\n",
    "from numpy import genfromtxt\n",
    "from plots import _plot\n",
    "from train import Results"
   ]
  },
  {
   "cell_type": "code",
   "execution_count": 56,
   "metadata": {},
   "outputs": [],
   "source": [
    "exp='exp class synthetic'\n",
    "if exp=='exp reg synthetic':\n",
    "    #folder = 'exps/exp1/grid_searchexp1w_bar4taskstd1y_snr10dim30over10seedsis[\\'fista\\', \\'subgd\\', \\'ssubgd\\']ist[\\'fista\\', \\'subgd\\', \\'ssubgd\\']n10val_perc0.0-2019-01-31 13:23:14.322002'\n",
    "    #folder = 'exps77/grid_searchexp1w_bar4taskstd1y_snr10dim30over10seedsis[\\'ssubgd\\', \\'fista\\']ist[\\'ssubgd\\', \\'fista\\']n50val_perc0.0-2019-02-11 12:37:04.184427'\n",
    "    folder = 'exps77/exp_duality_gap_MAC/exp1/'\n",
    "    T=500\n",
    "    x_right=500\n",
    "elif exp =='exp class synthetic':\n",
    "    #folder = 'exps77/grid_searchexp2w_bar4taskstd1y_snr10dim30y_distlogisticmarginover10seedsis[\\'ssubgd\\', \\'fista\\']ist[\\'ssubgd\\', \\'fista\\']n50val_perc0.0-2019-02-08 22%3a00%3a35.758740'\n",
    "    #folder = 'exps77/grid_searchexp2w_bar4taskstd1y_snr10dim30y_distlogisticmarginover10seedsis[\\'ssubgd\\', \\'fista\\']ist[\\'ssubgd\\', \\'fista\\']n10val_perc0.0-2019-02-08 11%3a16%3a06.897500'\n",
    "    folder = 'exps77/exp_duality_gap_MAC/exp2/'\n",
    "    T=500\n",
    "    x_right=500\n",
    "elif exp =='lenk regression':\n",
    "    #folder = 'exps77/grid_searchexpLenkRegn_tasks_train100n_tasks_val40n_tasks180dim14over10seedsis[\\'ssubgd\\', \\'fista\\']ist[\\'ssubgd\\', \\'fista\\']n8val_perc0.0-2019-02-07 14:48:50.964294/'\n",
    "    folder = 'exps77/exp_duality_gap_MAC/expLenkReg/'\n",
    "    T=100\n",
    "    x_right=100\n",
    "elif exp =='lenk classification':\n",
    "    #folder = 'exps77/grid_searchexpLenkn_tasks_train100n_tasks_val40n_tasks180dim14over10seedsis[\\'ssubgd\\', \\'fista\\']ist[\\'ssubgd\\', \\'fista\\']n8val_perc0.0-2019-02-07 18:54:20.948679'\n",
    "    folder = 'exps77/exp_duality_gap_MAC/expLenkClass/'\n",
    "    T=100\n",
    "    x_right=100\n",
    "\n",
    "title=''\n",
    "metric='accuracy'\n",
    "y_label='Test Error'\n",
    "save=True\n",
    "save_dir = 'plotsf'\n",
    "\n",
    "if not save:\n",
    "    save_dir=None\n",
    "\n",
    "files = os.listdir(folder)\n",
    "def get_file(starts_with):\n",
    "    for f in files:\n",
    "        if f.startswith(metric+'-'+starts_with):\n",
    "            return genfromtxt(join(folder, f), delimiter=',')\n",
    "    return None\n",
    "result_dict = {}\n",
    "def put_in_dict(starts_with, name, color=None):\n",
    "    metrics = {'': get_file(starts_with=starts_with)}\n",
    "    print(metrics)\n",
    "    r = Results(None, False, False, name=name)\n",
    "    r.add_metrics(metrics)\n",
    "    r.color = color\n",
    "    result_dict[name] = r"
   ]
  },
  {
   "cell_type": "code",
   "execution_count": 57,
   "metadata": {},
   "outputs": [
    {
     "name": "stdout",
     "output_type": "stream",
     "text": [
      "{'': array([0.3162 , 0.3318 , 0.3265 , 0.3213 , 0.32385, 0.3229 , 0.3246 ,\n",
      "       0.32605, 0.3266 , 0.3321 ])}\n",
      "-----------ITL ERM- mean std 0.32519000000000003 0.004463451579215379\n",
      "{'': array([0.3864 , 0.39045, 0.3987 , 0.3883 , 0.39695, 0.3793 , 0.3869 ,\n",
      "       0.39565, 0.3962 , 0.4018 ])}\n",
      "-----------ITL SGD- mean std 0.392065 0.006565860568120504\n",
      "{'': array([[0.38985, 0.39595, 0.39075, ..., 0.39465, 0.3976 , 0.3989 ],\n",
      "       [0.34545, 0.36115, 0.3582 , ..., 0.3477 , 0.3717 , 0.3528 ],\n",
      "       [0.3312 , 0.3409 , 0.34235, ..., 0.3041 , 0.35025, 0.31275],\n",
      "       ...,\n",
      "       [0.0428 , 0.04595, 0.0465 , ..., 0.04675, 0.04395, 0.04165],\n",
      "       [0.0458 , 0.0461 , 0.0466 , ..., 0.04695, 0.0439 , 0.04135],\n",
      "       [0.04575, 0.04585, 0.0465 , ..., 0.04695, 0.04385, 0.04165]])}\n",
      "-----------LTL SGD-SGD- mean std 0.04475000000000001 0.001833848412492173\n",
      "{'': array([[0.3934 , 0.40045, 0.3876 , ..., 0.398  , 0.39055, 0.40435],\n",
      "       [0.3408 , 0.34495, 0.3402 , ..., 0.3507 , 0.36005, 0.3475 ],\n",
      "       [0.31565, 0.3323 , 0.31915, ..., 0.257  , 0.3429 , 0.31375],\n",
      "       ...,\n",
      "       [0.04205, 0.0442 , 0.04235, ..., 0.0463 , 0.0431 , 0.0413 ],\n",
      "       [0.04205, 0.04415, 0.0423 , ..., 0.04635, 0.04335, 0.0413 ],\n",
      "       [0.0421 , 0.0441 , 0.0423 , ..., 0.04635, 0.0434 , 0.0412 ]])}\n",
      "-----------LTL ERM-SGD- mean std 0.04314999999999998 0.0013608820668963206\n",
      "{'': array([[0.3162 , 0.3318 , 0.3265 , ..., 0.32605, 0.3266 , 0.3321 ],\n",
      "       [0.27615, 0.28485, 0.27955, ..., 0.28535, 0.30195, 0.2899 ],\n",
      "       [0.24805, 0.2695 , 0.25815, ..., 0.24425, 0.293  , 0.2501 ],\n",
      "       ...,\n",
      "       [0.04205, 0.0442 , 0.0423 , ..., 0.0463 , 0.04325, 0.0413 ],\n",
      "       [0.04205, 0.0442 , 0.04225, ..., 0.04635, 0.0432 , 0.0413 ],\n",
      "       [0.0421 , 0.04415, 0.0422 , ..., 0.04635, 0.04315, 0.0412 ]])}\n",
      "-----------LTL ERM-ERM- mean std 0.04312499999999998 0.0013671594639982556\n",
      "{'': array([0.03805, 0.0419 , 0.0382 , 0.0396 , 0.03915, 0.0389 , 0.039  ,\n",
      "       0.04245, 0.0402 , 0.03855])}\n",
      "-----------MEAN ERM- mean std 0.03960000000000001 0.0014244297104455798\n",
      "{'': array([0.0389 , 0.04245, 0.03865, 0.04   , 0.0403 , 0.03895, 0.0406 ,\n",
      "       0.0428 , 0.04115, 0.0398 ])}\n",
      "-----------MEAN SGD- mean std 0.040359999999999986 0.0013599264686004551\n"
     ]
    }
   ],
   "source": [
    "erm_alg='fista'\n",
    "put_in_dict('ITL-ts'+erm_alg, 'ITL ERM', 'black')\n",
    "put_in_dict('ITL-tsssubgd', 'ITL SGD', 'darkred')\n",
    "\n",
    "put_in_dict('LTL-trssubgdtsssubgd', 'LTL SGD-SGD', 'c')\n",
    "put_in_dict('LTL-tr'+erm_alg+'tsssubgd', 'LTL ERM-SGD', 'b')\n",
    "#put_in_dict('LTL-trssubgdts'+erm_alg, 'LTL SGD-ERM', 'm')\n",
    "put_in_dict('LTL-tr'+erm_alg+'ts'+erm_alg, 'LTL ERM-ERM', 'red')\n",
    "\n",
    "if exp != 'lenk':\n",
    "    put_in_dict('MEAN-ts'+erm_alg, 'MEAN ERM', 'green')\n",
    "    put_in_dict('MEAN-tsssubgd', 'MEAN SGD', 'orange')"
   ]
  },
  {
   "cell_type": "code",
   "execution_count": 58,
   "metadata": {},
   "outputs": [],
   "source": [
    "def plot_resultsList(T, results_dict, y_label='', title='', save_dir_path=None, show_plot=True,\n",
    "                     filename='metric_test'):\n",
    "\n",
    "    alpha = 0.1\n",
    "    size=0.9\n",
    "    my_dpi=300\n",
    "    plt.figure(figsize=(size*7, size*4))\n",
    "    plt.tight_layout()\n",
    "    \n",
    "    x = list(range(T))\n",
    "    for _, results in results_dict.items():\n",
    "        _plot(results.metrics, '', alpha, x=x, label=results.name, color=results.color)\n",
    "\n",
    "    plt.title(title)\n",
    "    plt.ylabel(y_label)\n",
    "    #plt.ylim(0.08, 0.14)\n",
    "    plt.xlabel('T')\n",
    "    plt.xlim(right=x_right, left=x[0])\n",
    "    plt.legend()\n",
    "\n",
    "    if save_dir_path is not None:\n",
    "        pylab.savefig(os.path.join(save_dir_path, filename+str(size)+'.png'), bbox_inches = \"tight\", dpi=my_dpi)\n",
    "        #pylab.savefig(os.path.join(save_dir_path, filename+'.pgf'))\n",
    "        #tikz_save(os.path.join(save_dir_path, filename+'.txt'))\n",
    "    if show_plot:\n",
    "        plt.show()\n",
    "    plt.close()"
   ]
  },
  {
   "cell_type": "code",
   "execution_count": 59,
   "metadata": {},
   "outputs": [
    {
     "data": {
      "image/png": "[encoded data removed]",
      "text/plain": [
       "<matplotlib.figure.Figure at 0x113361278>"
      ]
     },
     "metadata": {},
     "output_type": "display_data"
    }
   ],
   "source": [
    "plot_resultsList(T+1, result_dict, y_label, title, save_dir, True, filename=exp+metric+'ERMvsSGD-T'+str(x_right))"
   ]
  },
  {
   "cell_type": "code",
   "execution_count": null,
   "metadata": {},
   "outputs": [],
   "source": []
  },
  {
   "cell_type": "code",
   "execution_count": null,
   "metadata": {},
   "outputs": [],
   "source": []
  },
  {
   "cell_type": "code",
   "execution_count": null,
   "metadata": {},
   "outputs": [],
   "source": []
  },
  {
   "cell_type": "code",
   "execution_count": null,
   "metadata": {},
   "outputs": [],
   "source": []
  },
  {
   "cell_type": "code",
   "execution_count": null,
   "metadata": {},
   "outputs": [],
   "source": []
  }
 ],
 "metadata": {
  "kernelspec": {
   "display_name": "Python 3",
   "language": "python",
   "name": "python3"
  },
  "language_info": {
   "codemirror_mode": {
    "name": "ipython",
    "version": 3
   },
   "file_extension": ".py",
   "mimetype": "text/x-python",
   "name": "python",
   "nbconvert_exporter": "python",
   "pygments_lexer": "ipython3",
   "version": "3.6.4"
  }
 },
 "nbformat": 4,
 "nbformat_minor": 2
}
